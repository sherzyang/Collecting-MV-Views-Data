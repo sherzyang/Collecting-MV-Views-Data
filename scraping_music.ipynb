{
 "cells": [
  {
   "cell_type": "markdown",
   "metadata": {},
   "source": [
    "# Looking at YouTube view count growth for top MVs "
   ]
  },
  {
   "cell_type": "markdown",
   "metadata": {},
   "source": [
    "## Strategy: \n",
    "\n",
    "1. We are going to write two scripts. One is going to get the url and title of the MV. Anotehr is going to write a script to collect the views of the music video from a specific time period. This should also contain the url. \n",
    "2. We are going to look at the top 5 trending on Youtube. "
   ]
  },
  {
   "cell_type": "code",
   "execution_count": 1,
   "metadata": {},
   "outputs": [],
   "source": [
    "%load_ext autoreload\n",
    "%autoreload 2"
   ]
  },
  {
   "cell_type": "markdown",
   "metadata": {},
   "source": [
    "## Importing our libraries "
   ]
  },
  {
   "cell_type": "code",
   "execution_count": 36,
   "metadata": {},
   "outputs": [],
   "source": [
    "import requests\n",
    "import random\n",
    "import time\n",
    "from selenium.webdriver import Chrome\n",
    "# from scrape_functions import (\n",
    "#     get_comic_title,\n",
    "#     find_image,\n",
    "#     scrape_image,\n",
    "#     get_prev)"
   ]
  },
  {
   "cell_type": "code",
   "execution_count": 37,
   "metadata": {},
   "outputs": [],
   "source": [
    "browser = Chrome()\n",
    "url = \"https://www.youtube.com/feed/trending\"\n",
    "browser.get(url)"
   ]
  },
  {
   "cell_type": "code",
   "execution_count": 38,
   "metadata": {},
   "outputs": [],
   "source": [
    "import requests\n",
    "\n",
    "def get_mv_title(browser):\n",
    "    \"\"\"Return the title text\"\"\"\n",
    "    title = browser.find_element_by_id('video-title')\n",
    "    return title"
   ]
  },
  {
   "cell_type": "code",
   "execution_count": 39,
   "metadata": {},
   "outputs": [],
   "source": [
    "def get_mv_url(title):\n",
    "    \"\"\"Return the url text\"\"\"\n",
    "    return title.get_attribute('href')"
   ]
  },
  {
   "cell_type": "code",
   "execution_count": 40,
   "metadata": {},
   "outputs": [],
   "source": [
    "from datetime import datetime\n",
    "\n",
    "def get_view_count(browser, url):\n",
    "    browser.get(url)\n",
    "    time.sleep(3)\n",
    "    \"\"\"Return the view count\"\"\"\n",
    "    today = datetime.now()\n",
    "    sel = 'span.view-count'\n",
    "    view_count = browser.find_element_by_css_selector(sel).text\n",
    "    return int(view_count.split()[0].replace(\",\",\"\")), today"
   ]
  },
  {
   "cell_type": "code",
   "execution_count": 41,
   "metadata": {},
   "outputs": [],
   "source": [
    "url = \"https://www.youtube.com/feed/trending\"\n",
    "browser.get(url)\n",
    "time.sleep(5)\n",
    "videolinks = browser.find_elements_by_id('video-title')\n",
    "videos = [(link.text, link.get_attribute('href')) for link in videolinks]\n",
    "\n",
    "info = []\n",
    "for title, url in videos[:5]:\n",
    "    view_count, today = get_view_count(browser, url)\n",
    "    info.append({'title': title,\n",
    "                 'url': url })"
   ]
  },
  {
   "cell_type": "code",
   "execution_count": 42,
   "metadata": {},
   "outputs": [],
   "source": [
    "view_count = []\n",
    "\n",
    "for item in info:\n",
    "    count, today = get_view_count(browser, item['url'])\n",
    "    view_count.append({'url': url,\n",
    "                       'view_count': count,\n",
    "                       'date': today})\n"
   ]
  },
  {
   "cell_type": "code",
   "execution_count": 43,
   "metadata": {},
   "outputs": [],
   "source": [
    "import pandas as pd"
   ]
  },
  {
   "cell_type": "code",
   "execution_count": 44,
   "metadata": {},
   "outputs": [],
   "source": [
    "titles_df = pd.DataFrame(info)"
   ]
  },
  {
   "cell_type": "code",
   "execution_count": 45,
   "metadata": {
    "scrolled": true
   },
   "outputs": [
    {
     "data": {
      "text/html": [
       "<div>\n",
       "<style scoped>\n",
       "    .dataframe tbody tr th:only-of-type {\n",
       "        vertical-align: middle;\n",
       "    }\n",
       "\n",
       "    .dataframe tbody tr th {\n",
       "        vertical-align: top;\n",
       "    }\n",
       "\n",
       "    .dataframe thead th {\n",
       "        text-align: right;\n",
       "    }\n",
       "</style>\n",
       "<table border=\"1\" class=\"dataframe\">\n",
       "  <thead>\n",
       "    <tr style=\"text-align: right;\">\n",
       "      <th></th>\n",
       "      <th>title</th>\n",
       "      <th>url</th>\n",
       "    </tr>\n",
       "  </thead>\n",
       "  <tbody>\n",
       "    <tr>\n",
       "      <th>0</th>\n",
       "      <td>Taylor Swift - ME! (feat. Brendon Urie of Pani...</td>\n",
       "      <td>https://www.youtube.com/watch?v=FuXNumBwDOM</td>\n",
       "    </tr>\n",
       "    <tr>\n",
       "      <th>1</th>\n",
       "      <td>Picks 1-10: Multiple QBs, a Top 10 Trade &amp; Mor...</td>\n",
       "      <td>https://www.youtube.com/watch?v=2uSKsTfunzM</td>\n",
       "    </tr>\n",
       "    <tr>\n",
       "      <th>2</th>\n",
       "      <td>Fortnite X Avengers: Endgame Trailer</td>\n",
       "      <td>https://www.youtube.com/watch?v=OM_QJkD-Mr8</td>\n",
       "    </tr>\n",
       "    <tr>\n",
       "      <th>3</th>\n",
       "      <td>Learning How To BELLY DANCE! (feat. Leilah Isa...</td>\n",
       "      <td>https://www.youtube.com/watch?v=JMn97wtyErM</td>\n",
       "    </tr>\n",
       "    <tr>\n",
       "      <th>4</th>\n",
       "      <td>I Tried MATCHA For Better Energy &amp; Focus!</td>\n",
       "      <td>https://www.youtube.com/watch?v=mxt3xkqPrH0</td>\n",
       "    </tr>\n",
       "  </tbody>\n",
       "</table>\n",
       "</div>"
      ],
      "text/plain": [
       "                                               title  \\\n",
       "0  Taylor Swift - ME! (feat. Brendon Urie of Pani...   \n",
       "1  Picks 1-10: Multiple QBs, a Top 10 Trade & Mor...   \n",
       "2               Fortnite X Avengers: Endgame Trailer   \n",
       "3  Learning How To BELLY DANCE! (feat. Leilah Isa...   \n",
       "4          I Tried MATCHA For Better Energy & Focus!   \n",
       "\n",
       "                                           url  \n",
       "0  https://www.youtube.com/watch?v=FuXNumBwDOM  \n",
       "1  https://www.youtube.com/watch?v=2uSKsTfunzM  \n",
       "2  https://www.youtube.com/watch?v=OM_QJkD-Mr8  \n",
       "3  https://www.youtube.com/watch?v=JMn97wtyErM  \n",
       "4  https://www.youtube.com/watch?v=mxt3xkqPrH0  "
      ]
     },
     "execution_count": 45,
     "metadata": {},
     "output_type": "execute_result"
    }
   ],
   "source": [
    "titles_df.head()"
   ]
  },
  {
   "cell_type": "code",
   "execution_count": 46,
   "metadata": {},
   "outputs": [],
   "source": [
    "view_count = pd.DataFrame(view_count)"
   ]
  },
  {
   "cell_type": "code",
   "execution_count": 47,
   "metadata": {},
   "outputs": [
    {
     "data": {
      "text/html": [
       "<div>\n",
       "<style scoped>\n",
       "    .dataframe tbody tr th:only-of-type {\n",
       "        vertical-align: middle;\n",
       "    }\n",
       "\n",
       "    .dataframe tbody tr th {\n",
       "        vertical-align: top;\n",
       "    }\n",
       "\n",
       "    .dataframe thead th {\n",
       "        text-align: right;\n",
       "    }\n",
       "</style>\n",
       "<table border=\"1\" class=\"dataframe\">\n",
       "  <thead>\n",
       "    <tr style=\"text-align: right;\">\n",
       "      <th></th>\n",
       "      <th>date</th>\n",
       "      <th>url</th>\n",
       "      <th>view_count</th>\n",
       "    </tr>\n",
       "  </thead>\n",
       "  <tbody>\n",
       "    <tr>\n",
       "      <th>0</th>\n",
       "      <td>2019-04-26 16:59:59.587442</td>\n",
       "      <td>https://www.youtube.com/watch?v=mxt3xkqPrH0</td>\n",
       "      <td>40927196</td>\n",
       "    </tr>\n",
       "    <tr>\n",
       "      <th>1</th>\n",
       "      <td>2019-04-26 17:00:03.822908</td>\n",
       "      <td>https://www.youtube.com/watch?v=mxt3xkqPrH0</td>\n",
       "      <td>690906</td>\n",
       "    </tr>\n",
       "    <tr>\n",
       "      <th>2</th>\n",
       "      <td>2019-04-26 17:00:07.637408</td>\n",
       "      <td>https://www.youtube.com/watch?v=mxt3xkqPrH0</td>\n",
       "      <td>6439231</td>\n",
       "    </tr>\n",
       "    <tr>\n",
       "      <th>3</th>\n",
       "      <td>2019-04-26 17:00:12.293920</td>\n",
       "      <td>https://www.youtube.com/watch?v=mxt3xkqPrH0</td>\n",
       "      <td>10493</td>\n",
       "    </tr>\n",
       "    <tr>\n",
       "      <th>4</th>\n",
       "      <td>2019-04-26 17:00:16.069541</td>\n",
       "      <td>https://www.youtube.com/watch?v=mxt3xkqPrH0</td>\n",
       "      <td>11270</td>\n",
       "    </tr>\n",
       "  </tbody>\n",
       "</table>\n",
       "</div>"
      ],
      "text/plain": [
       "                        date                                          url  \\\n",
       "0 2019-04-26 16:59:59.587442  https://www.youtube.com/watch?v=mxt3xkqPrH0   \n",
       "1 2019-04-26 17:00:03.822908  https://www.youtube.com/watch?v=mxt3xkqPrH0   \n",
       "2 2019-04-26 17:00:07.637408  https://www.youtube.com/watch?v=mxt3xkqPrH0   \n",
       "3 2019-04-26 17:00:12.293920  https://www.youtube.com/watch?v=mxt3xkqPrH0   \n",
       "4 2019-04-26 17:00:16.069541  https://www.youtube.com/watch?v=mxt3xkqPrH0   \n",
       "\n",
       "   view_count  \n",
       "0    40927196  \n",
       "1      690906  \n",
       "2     6439231  \n",
       "3       10493  \n",
       "4       11270  "
      ]
     },
     "execution_count": 47,
     "metadata": {},
     "output_type": "execute_result"
    }
   ],
   "source": [
    "view_count"
   ]
  },
  {
   "cell_type": "markdown",
   "metadata": {},
   "source": [
    "## Saving the file "
   ]
  },
  {
   "cell_type": "code",
   "execution_count": 19,
   "metadata": {},
   "outputs": [
    {
     "name": "stderr",
     "output_type": "stream",
     "text": [
      "/Users/sherzyang/anaconda3/lib/python3.7/site-packages/odo/backends/pandas.py:102: FutureWarning: pandas.tslib is deprecated and will be removed in a future version.\n",
      "You can access NaTType as type(pandas.NaT)\n",
      "  @convert.register((pd.Timestamp, pd.Timedelta), (pd.tslib.NaTType, type(None)))\n"
     ]
    }
   ],
   "source": [
    "from pymongo import MongoClient \n",
    "from odo import odo\n",
    "\n",
    "# open connection\n",
    "connection = MongoClient()\n",
    "\n",
    "# get db\n",
    "db = connection['music_scraping']\n",
    "coll = db['videos']\n",
    "\n",
    "for video in info:\n",
    "    coll.insert_one(video)\n"
   ]
  },
  {
   "cell_type": "code",
   "execution_count": 20,
   "metadata": {},
   "outputs": [
    {
     "data": {
      "text/plain": [
       "Collection(Database(MongoClient(host=['localhost:27017'], document_class=dict, tz_aware=False, connect=True), 'music_scraping'), 'videos.0')"
      ]
     },
     "execution_count": 20,
     "metadata": {},
     "output_type": "execute_result"
    }
   ],
   "source": [
    "coll[0]"
   ]
  },
  {
   "cell_type": "code",
   "execution_count": 21,
   "metadata": {},
   "outputs": [
    {
     "data": {
      "text/plain": [
       "5"
      ]
     },
     "execution_count": 21,
     "metadata": {},
     "output_type": "execute_result"
    }
   ],
   "source": [
    "coll.count_documents({})"
   ]
  },
  {
   "cell_type": "code",
   "execution_count": 22,
   "metadata": {},
   "outputs": [],
   "source": [
    "cur = coll.find({})"
   ]
  },
  {
   "cell_type": "code",
   "execution_count": 24,
   "metadata": {},
   "outputs": [],
   "source": [
    "coll = db['view_count']\n",
    "for video in cur:\n",
    "    count, today = get_view_count(browser, video['url'])\n",
    "    coll.insert_one({\n",
    "        'title': video['title'],\n",
    "        'view_count': count,\n",
    "        'timestamp': today\n",
    "    })"
   ]
  },
  {
   "cell_type": "code",
   "execution_count": null,
   "metadata": {},
   "outputs": [],
   "source": []
  }
 ],
 "metadata": {
  "kernelspec": {
   "display_name": "Python 3",
   "language": "python",
   "name": "python3"
  },
  "language_info": {
   "codemirror_mode": {
    "name": "ipython",
    "version": 3
   },
   "file_extension": ".py",
   "mimetype": "text/x-python",
   "name": "python",
   "nbconvert_exporter": "python",
   "pygments_lexer": "ipython3",
   "version": "3.7.1"
  }
 },
 "nbformat": 4,
 "nbformat_minor": 2
}
